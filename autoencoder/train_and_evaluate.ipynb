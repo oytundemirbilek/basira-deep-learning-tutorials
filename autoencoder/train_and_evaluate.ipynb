{
 "cells": [
  {
   "cell_type": "markdown",
   "metadata": {},
   "source": [
    "![basira_logo.jpg](../basira_logo.jpg)\n",
    "\n",
    "# BASIRA LAB AUTOENCODER EXERCISE\n",
    "\n",
    "Oytun Demirbilek, Islem Rekik"
   ]
  },
  {
   "cell_type": "code",
   "execution_count": 1,
   "metadata": {},
   "outputs": [],
   "source": [
    "import torch\n",
    "from torch import Tensor"
   ]
  },
  {
   "cell_type": "markdown",
   "metadata": {},
   "source": [
    "In this exercise, you will build an image autoencoder from scratch to remove blur from images. Autoencoders are widely used in image reconstruction, sometimes images can be partially damaged or low resolution that we can still obtain better quality images from them. We will try to get a better resolution image with our trained model."
   ]
  },
  {
   "cell_type": "markdown",
   "metadata": {},
   "source": [
    "One example answer notebook will be uploaded to the github repository: https://github.com/oytundemirbilek/basira-deep-learning-tutorials/"
   ]
  },
  {
   "cell_type": "markdown",
   "metadata": {},
   "source": [
    "# Hyperparameters"
   ]
  },
  {
   "cell_type": "code",
   "execution_count": 2,
   "metadata": {},
   "outputs": [],
   "source": [
    "LEARNING_RATE = 1e-3\n",
    "WEIGHT_DECAY = 1e-3\n",
    "BATCH_SIZE = 10\n",
    "N_EPOCHS = 10"
   ]
  },
  {
   "cell_type": "markdown",
   "metadata": {},
   "source": [
    "# Define datasets and dataloaders"
   ]
  },
  {
   "cell_type": "markdown",
   "metadata": {},
   "source": [
    "Autoencoders are considered to be unsupervised models. Therefore we only need one separate test set, no validation."
   ]
  },
  {
   "cell_type": "code",
   "execution_count": 3,
   "metadata": {},
   "outputs": [],
   "source": [
    "from torchvision.datasets import MNIST\n",
    "from torchvision.transforms import ToTensor, Compose, GaussianBlur\n",
    "from torch.utils.data import DataLoader"
   ]
  },
  {
   "cell_type": "code",
   "execution_count": 4,
   "metadata": {},
   "outputs": [],
   "source": [
    "tr_dataset = MNIST(root=\"../mnist_tr/\", download=True, transform=Compose([GaussianBlur(5), ToTensor()]))\n",
    "test_dataset = MNIST(root=\"../mnist_test/\", download=True, train=False, transform=Compose([GaussianBlur(5),ToTensor()]))\n",
    "\n",
    "tr_dataloader = DataLoader(tr_dataset, batch_size=BATCH_SIZE)\n",
    "test_dataloader = DataLoader(test_dataset, batch_size=1)"
   ]
  },
  {
   "cell_type": "markdown",
   "metadata": {},
   "source": [
    "# Build a model, define optimizer and loss"
   ]
  },
  {
   "cell_type": "markdown",
   "metadata": {},
   "source": [
    "Define your autoencoder architecture, you can import a Unet-like model, or you can design it on your own, etc. completely flexible. Just note that the output image size should be the same as the input image size !"
   ]
  },
  {
   "cell_type": "code",
   "execution_count": 5,
   "metadata": {},
   "outputs": [],
   "source": [
    "from torch.nn import Module, Sequential, Conv2d, Upsample, MaxPool2d, ReLU, Sigmoid"
   ]
  },
  {
   "cell_type": "code",
   "execution_count": 6,
   "metadata": {},
   "outputs": [],
   "source": [
    "class ImageAutoEncoder(Module):\n",
    "    def __init__(self) -> None:\n",
    "        super().__init__()\n",
    "        self.encoder = Sequential(\n",
    "            Conv2d(1, 64, 3, stride=1, padding=1),  # \n",
    "            ReLU(True),\n",
    "            MaxPool2d(2, stride=1),\n",
    "            Conv2d(64, 16, 3, stride=1, padding=1),  # b, 8, 3, 3\n",
    "            ReLU(True),\n",
    "            MaxPool2d(2, stride=1)  # b, 8, 2, 2\n",
    "        )\n",
    "\n",
    "        self.decoder = Sequential(\n",
    "            Upsample(scale_factor=1, mode='nearest'),\n",
    "            Conv2d(16, 64, 3, stride=1, padding=1),  # b, 16, 10, 10\n",
    "            ReLU(True),\n",
    "            Upsample(scale_factor=1, mode='nearest'),\n",
    "            Conv2d(64, 1, 3, stride=1, padding=2),  # b, 8, 3, 3\n",
    "            Sigmoid()\n",
    "        )\n",
    "\n",
    "    def forward(self, img: Tensor) -> Tensor:\n",
    "        encoded = self.encoder(img) \n",
    "        decoded = self.decoder(encoded) \n",
    "        return decoded"
   ]
  },
  {
   "cell_type": "code",
   "execution_count": 7,
   "metadata": {},
   "outputs": [],
   "source": [
    "DEVICE = torch.device(\"cuda\" if torch.cuda.is_available() else \"cpu\")\n",
    "# DEVICE = torch.device(\"mps\" if torch.cuda.is_available() else \"cpu\") # If on macos"
   ]
  },
  {
   "cell_type": "markdown",
   "metadata": {},
   "source": [
    "Define your model and move it to the device. Then define the optimizer of your preference, SGD, Adagrad, AdamW ..."
   ]
  },
  {
   "cell_type": "code",
   "execution_count": 8,
   "metadata": {},
   "outputs": [],
   "source": [
    "from torch.optim import AdamW\n",
    "\n",
    "model = ImageAutoEncoder().to(DEVICE)\n",
    "optimizer = AdamW(model.parameters(), lr=LEARNING_RATE, weight_decay=WEIGHT_DECAY)"
   ]
  },
  {
   "cell_type": "markdown",
   "metadata": {},
   "source": [
    "Define loss function. You can just import the built-in MSELoss or you can create your own loss function based on recent papers etc."
   ]
  },
  {
   "cell_type": "code",
   "execution_count": 9,
   "metadata": {},
   "outputs": [],
   "source": [
    "from torch.nn import MSELoss\n",
    "\n",
    "loss_fn = MSELoss()\n",
    "\n",
    "# def loss_fn(prediction: Tensor, target: Tensor) -> Tensor:\n",
    "#     return target - prediction"
   ]
  },
  {
   "cell_type": "markdown",
   "metadata": {},
   "source": [
    "# Write training loop"
   ]
  },
  {
   "cell_type": "markdown",
   "metadata": {},
   "source": [
    "Add training loop. Inside of the loop, you should also iterate over training dataloader, but ignore the labels. The input image should be your loss target as well. Calculate average training loss at the end of the dataloader iteration."
   ]
  },
  {
   "cell_type": "code",
   "execution_count": 10,
   "metadata": {},
   "outputs": [
    {
     "name": "stdout",
     "output_type": "stream",
     "text": [
      "Epoch: 1/10, Avg.Tr.Loss: 0.0007511595031246543\n",
      "Epoch: 2/10, Avg.Tr.Loss: 4.162616460234858e-05\n",
      "Epoch: 3/10, Avg.Tr.Loss: 2.5754441594472155e-05\n",
      "Epoch: 4/10, Avg.Tr.Loss: 2.079908699670341e-05\n",
      "Epoch: 5/10, Avg.Tr.Loss: 1.729538053041324e-05\n",
      "Epoch: 6/10, Avg.Tr.Loss: 1.5532596080447547e-05\n",
      "Epoch: 7/10, Avg.Tr.Loss: 1.4673525583930314e-05\n",
      "Epoch: 8/10, Avg.Tr.Loss: 1.2538477676571347e-05\n",
      "Epoch: 9/10, Avg.Tr.Loss: 1.1750538760679774e-05\n",
      "Epoch: 10/10, Avg.Tr.Loss: 1.0950079740723595e-05\n"
     ]
    }
   ],
   "source": [
    "for epoch in range(N_EPOCHS):\n",
    "    tr_losses = []\n",
    "    for input_data, _ in tr_dataloader:\n",
    "        input_data = input_data.to(DEVICE)\n",
    "        pred_data = model(input_data)\n",
    "        tr_loss = loss_fn(pred_data, input_data)\n",
    "        optimizer.zero_grad()\n",
    "        tr_loss.backward()\n",
    "        optimizer.step()\n",
    "        tr_losses.append(tr_loss.detach())\n",
    "    avg_tr_loss = torch.stack(tr_losses).mean().item()\n",
    "    print(f\"Epoch: {epoch + 1}/{N_EPOCHS}, Avg.Tr.Loss: {avg_tr_loss}\")"
   ]
  },
  {
   "cell_type": "markdown",
   "metadata": {},
   "source": [
    "# Write testing loop"
   ]
  },
  {
   "cell_type": "markdown",
   "metadata": {},
   "source": [
    "Add testing loop. You should again ignore the labels. Calculate the average testing loss at the end of the dataloader iteration."
   ]
  },
  {
   "cell_type": "code",
   "execution_count": 11,
   "metadata": {},
   "outputs": [
    {
     "name": "stdout",
     "output_type": "stream",
     "text": [
      "Avg.Test.Loss: 8.671957402839325e-06\n"
     ]
    }
   ],
   "source": [
    "with torch.no_grad():\n",
    "    test_losses = []\n",
    "    for input_data, _ in test_dataloader:\n",
    "        input_data = input_data.to(DEVICE)\n",
    "        pred_data = model(input_data)\n",
    "        test_loss = loss_fn(pred_data, input_data)\n",
    "        test_losses.append(test_loss)\n",
    "    avg_test_loss = torch.stack(test_losses).mean().item()\n",
    "    print(f\"Avg.Test.Loss: {avg_test_loss}\")"
   ]
  },
  {
   "cell_type": "markdown",
   "metadata": {},
   "source": [
    "# Image Reconstruction"
   ]
  },
  {
   "cell_type": "markdown",
   "metadata": {},
   "source": [
    "Implement an inference case for your model. Read the uploaded image and use your model to try to reconstruct the image without blur. Plot both images to compare."
   ]
  },
  {
   "cell_type": "code",
   "execution_count": 12,
   "metadata": {},
   "outputs": [
    {
     "data": {
      "image/png": "[encoded data removed]",
      "text/plain": [
       "<Figure size 640x480 with 1 Axes>"
      ]
     },
     "metadata": {},
     "output_type": "display_data"
    },
    {
     "data": {
      "image/png": "[encoded data removed]",
      "text/plain": [
       "<Figure size 640x480 with 1 Axes>"
      ]
     },
     "metadata": {},
     "output_type": "display_data"
    }
   ],
   "source": [
    "from torchvision.io import read_image, ImageReadMode\n",
    "import matplotlib.pyplot as plt\n",
    "\n",
    "with torch.no_grad():\n",
    "    img = read_image(\"./sample_draw_3_blurred.png\", mode=ImageReadMode.GRAY)\n",
    "    img = img.to(DEVICE).float().unsqueeze(0)\n",
    "    unblurred_img = model(img).squeeze()\n",
    "\n",
    "    plt.imshow(img.squeeze().cpu().numpy(), cmap=\"gray\")\n",
    "    plt.show()\n",
    "    plt.imshow(unblurred_img.cpu().numpy(), cmap=\"gray\")\n",
    "    plt.show()"
   ]
  }
 ],
 "metadata": {
  "kernelspec": {
   "display_name": ".venv",
   "language": "python",
   "name": "python3"
  },
  "language_info": {
   "codemirror_mode": {
    "name": "ipython",
    "version": 3
   },
   "file_extension": ".py",
   "mimetype": "text/x-python",
   "name": "python",
   "nbconvert_exporter": "python",
   "pygments_lexer": "ipython3",
   "version": "3.10.6"
  }
 },
 "nbformat": 4,
 "nbformat_minor": 2
}
