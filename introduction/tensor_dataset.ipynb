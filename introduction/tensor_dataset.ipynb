{
 "cells": [
  {
   "cell_type": "markdown",
   "metadata": {},
   "source": [
    "# 1. Installation"
   ]
  },
  {
   "cell_type": "markdown",
   "metadata": {},
   "source": [
    "Let's start with exploring different options for torch installations. There are mainly two things to consider: your operating system, and your graphic card. Torch makes available CPU-only versions and CUDA-based versions. CUDA is an API (application programming interface), a software layer for NVIDIA graphic cards that gives direct access to your GPU device and also manages numerous concepts such a parallelization and convolution algorithms. ROCm is also a similar software, but for AMD graphic cards. To train models on your GPU, you need a CUDA-based or ROC-based torch installation.\n",
    "\n",
    "- __For Macbook owners__: Recently torch announced there will be support for Macbook chips with the new Metal Performance Shaders (MPS) backend for GPU accelaration. You can install a default version of torch, or also use Google Colab.\n",
    "\n",
    "- __For Windows users__: You need to have an NVIDIA graphic card, compatible with the CUDA-based torch instalations of your preferred torch version. If you have an old graphic card (older than ~3-4 years), you might need to install an older version of torch (check previous versions). If you have an AMD graphic card, you can install WSL (Windows Subsystem of Linux) and pick a ROCm-based torch installation. In any case, I would highly recommend WSL which might increase your options and easier to manage.\n",
    "\n",
    "- __For Linux or WSL users__: If you use a Linux-based system, you can either use a AMD or NVIDIA graphics card.\n",
    "\n",
    "For installation options, Torch website is also quite explanatory:"
   ]
  },
  {
   "cell_type": "markdown",
   "metadata": {},
   "source": [
    "![installation.png](./installation.png)"
   ]
  },
  {
   "cell_type": "markdown",
   "metadata": {},
   "source": [
    "\n",
    "__Important Note__: if your PC does not have a GPU and compatible CUDA compiler installation (usually comes with NVIDIA drivers), you can run this notebook on Google Colab. It also should have its own torch installation."
   ]
  },
  {
   "cell_type": "markdown",
   "metadata": {},
   "source": [
    "As an example, this notebook is prepared on WSL and torch version 2.1.1 with CUDA 11.8. The device is NVIDIA RTX 3060 which is only compatible with CUDA versions >10. So the installation command would be (Check torch website to find the command for you):"
   ]
  },
  {
   "cell_type": "code",
   "execution_count": null,
   "metadata": {},
   "outputs": [],
   "source": [
    "! pip install torch torchvision torchaudio --index-url https://download.pytorch.org/whl/cu118"
   ]
  },
  {
   "cell_type": "markdown",
   "metadata": {},
   "source": [
    "Other packages that will be used in this notebook:"
   ]
  },
  {
   "cell_type": "code",
   "execution_count": null,
   "metadata": {},
   "outputs": [],
   "source": [
    "! pip install matplotlib pandas numpy"
   ]
  },
  {
   "cell_type": "code",
   "execution_count": 1,
   "metadata": {},
   "outputs": [],
   "source": [
    "import torch\n",
    "from torch import Tensor # Only for type-annotations"
   ]
  },
  {
   "cell_type": "markdown",
   "metadata": {},
   "source": [
    "Reference:\n",
    "\n",
    "- https://pytorch.org/\n",
    "\n",
    "- https://pytorch.org/get-started/previous-versions/"
   ]
  },
  {
   "cell_type": "markdown",
   "metadata": {},
   "source": [
    "# 2. Torch Tensor objects:"
   ]
  },
  {
   "cell_type": "code",
   "execution_count": 2,
   "metadata": {},
   "outputs": [
    {
     "data": {
      "text/plain": [
       "tensor([[1.1365, 1.1233, 1.8108],\n",
       "        [1.9765, 1.5564, 1.1649]], grad_fn=<AddBackward0>)"
      ]
     },
     "execution_count": 2,
     "metadata": {},
     "output_type": "execute_result"
    }
   ],
   "source": [
    "a_tensor = torch.rand(2, 3, requires_grad=True)\n",
    "a_tensor + 1"
   ]
  },
  {
   "cell_type": "markdown",
   "metadata": {},
   "source": [
    "Notice something different than the regular numpy arrays? Tensors used in training should be attached to gradient function (grad_fn) that is responsible for each of the backward calculations (i.e., backpropagation steps). That will be important in the training (Section 3). These gradient functions basically used to keep track of whatever happens to the tensors and that creates a tree-like structure, and this tree is called 'gradient tree'. Something that looks like this:"
   ]
  },
  {
   "cell_type": "markdown",
   "metadata": {},
   "source": [
    "![gradient_tree.png](./gradient_tree.png)"
   ]
  },
  {
   "cell_type": "markdown",
   "metadata": {},
   "source": [
    "Reference: https://pytorch.org/tutorials/beginner/basics/tensorqs_tutorial.html"
   ]
  },
  {
   "cell_type": "markdown",
   "metadata": {},
   "source": [
    "__Exercise__: Create 2 tensors a and b with size [3, 5] both, where all b's are 8 and all a's are 2. You can use \"number * torch.ones()\" (Check torch.ones documentation for details). Then calculate the following formula: \n",
    "\n",
    "$$ \\frac{b + \\sqrt{b^2 - 4a}}{2a}$$\n",
    "\n",
    "Track and list gradient functions step by step."
   ]
  },
  {
   "cell_type": "code",
   "execution_count": 6,
   "metadata": {},
   "outputs": [
    {
     "name": "stdout",
     "output_type": "stream",
     "text": [
      "<PowBackward0 object at 0x7f49e0f2dba0>\n",
      "<MulBackward0 object at 0x7f4abb11f7f0>\n",
      "<SubBackward0 object at 0x7f4abb11f7f0>\n",
      "<SqrtBackward0 object at 0x7f4abb11f7f0>\n",
      "<AddBackward0 object at 0x7f4abb11f7f0>\n",
      "<MulBackward0 object at 0x7f4abb11f7f0>\n",
      "<DivBackward0 object at 0x7f4abb11f7f0>\n"
     ]
    }
   ],
   "source": [
    "\n"
   ]
  },
  {
   "cell_type": "markdown",
   "metadata": {},
   "source": [
    "# 3. Working with GPU acceleration"
   ]
  },
  {
   "cell_type": "markdown",
   "metadata": {},
   "source": [
    "Another commonly used property of the torch tensors is that you can move them between GPU and CPU memory ! Lets first check if your torch installation is ready-to-use with GPU:"
   ]
  },
  {
   "cell_type": "code",
   "execution_count": 3,
   "metadata": {},
   "outputs": [
    {
     "data": {
      "text/plain": [
       "True"
      ]
     },
     "execution_count": 3,
     "metadata": {},
     "output_type": "execute_result"
    }
   ],
   "source": [
    "torch.cuda.is_available() # ROCm also translated to CUDA.\n",
    "# torch.backends.mps.is_available() # This line is for MAC users with MPS based torch installation."
   ]
  },
  {
   "cell_type": "markdown",
   "metadata": {},
   "source": [
    "If you have an error on that line, that would probably because of your torch installation is not a CUDA-supported installation. You can replace \"cuda\" with \"backends.mps\". If the above line returned True, you can also run:"
   ]
  },
  {
   "cell_type": "code",
   "execution_count": 4,
   "metadata": {},
   "outputs": [
    {
     "data": {
      "text/plain": [
       "tensor([[0.5236, 0.5454, 0.7520],\n",
       "        [0.4329, 0.9686, 0.4871]], device='cuda:0', requires_grad=True)"
      ]
     },
     "execution_count": 4,
     "metadata": {},
     "output_type": "execute_result"
    }
   ],
   "source": [
    "device = torch.device(\"cuda\")\n",
    "a_tensor = torch.rand(2, 3, requires_grad=True, device=device)\n",
    "a_tensor"
   ]
  },
  {
   "cell_type": "markdown",
   "metadata": {},
   "source": [
    "Above we created a tensor directly in your GPU memory. But also, we can move it to CPU memory (i.e., RAM) and again back to GPU:"
   ]
  },
  {
   "cell_type": "code",
   "execution_count": 5,
   "metadata": {},
   "outputs": [
    {
     "name": "stdout",
     "output_type": "stream",
     "text": [
      "tensor([[0.5236, 0.5454, 0.7520],\n",
      "        [0.4329, 0.9686, 0.4871]], grad_fn=<ToCopyBackward0>)\n",
      "tensor([[0.5236, 0.5454, 0.7520],\n",
      "        [0.4329, 0.9686, 0.4871]], device='cuda:0', grad_fn=<ToCopyBackward0>)\n"
     ]
    }
   ],
   "source": [
    "a_tensor = a_tensor.cpu()\n",
    "print(a_tensor)\n",
    "b_tensor = a_tensor.to(device)\n",
    "print(b_tensor)"
   ]
  },
  {
   "cell_type": "markdown",
   "metadata": {},
   "source": [
    "__Exercise__: Create two tensors: x_tensor and y_tensor with size [100,1000] both. Allocate x_tensor on GPU, and y_tensor on CPU. Then calculate this: \n",
    "\n",
    "$$ \\frac{x^2}{2x}$$\n",
    "\n",
    " for both tensors separately and report execution times."
   ]
  },
  {
   "cell_type": "code",
   "execution_count": 19,
   "metadata": {},
   "outputs": [
    {
     "name": "stdout",
     "output_type": "stream",
     "text": [
      "8.4 µs ± 534 ns per loop (mean ± std. dev. of 7 runs, 100,000 loops each)\n"
     ]
    }
   ],
   "source": [
    "# You can use %timeit for whole operation to measure time.\n",
    "%timeit"
   ]
  },
  {
   "cell_type": "code",
   "execution_count": 20,
   "metadata": {},
   "outputs": [
    {
     "name": "stdout",
     "output_type": "stream",
     "text": [
      "11.9 µs ± 523 ns per loop (mean ± std. dev. of 7 runs, 100,000 loops each)\n"
     ]
    }
   ],
   "source": [
    "# Better to use %timeit in separate cells.\n",
    "%timeit"
   ]
  },
  {
   "cell_type": "markdown",
   "metadata": {},
   "source": [
    "__Note__: GPU accelaration is usually more effective on backpropagation."
   ]
  },
  {
   "cell_type": "markdown",
   "metadata": {},
   "source": [
    "# 4. Torch Dataset class"
   ]
  },
  {
   "cell_type": "markdown",
   "metadata": {},
   "source": [
    "Dataset class is the backbone of the data operations of any kind. Usually it is a good idea to create your own dataset class to have dataset-specific functionalities. Such as preprocessing, augmentations, IO-operations, tensor shaping..."
   ]
  },
  {
   "cell_type": "code",
   "execution_count": 6,
   "metadata": {},
   "outputs": [],
   "source": [
    "import os\n",
    "from torch.utils.data import Dataset\n",
    "from torchvision.io import read_image\n",
    "import pandas as pd\n",
    "\n",
    "# Built-in Dataset class should be inherited from your custom datasets.\n",
    "class PokemonDataset(Dataset):\n",
    "    def __init__(self, path_to_data: str) -> None:\n",
    "        # Initialize the inherited class with super().\n",
    "        super().__init__()\n",
    "\n",
    "        self.path_to_data = path_to_data\n",
    "        self.images_list = os.listdir(os.path.join(self.path_to_data, \"images\"))\n",
    "        self.metadata = pd.read_csv(os.path.join(self.path_to_data, \"pokemon.csv\"))\n",
    "        # Create label encoding for the text labels to make them machine-understandable.\n",
    "        self.metadata[\"label_code\"] = pd.Categorical(self.metadata[\"Type1\"]).codes\n",
    "\n",
    "    def __getitem__(self, idx: Tensor) -> Tensor:\n",
    "        \"\"\"Compulsory for iteration.\"\"\"\n",
    "        # Get the next image file name from the list.\n",
    "        image_name = self.images_list[idx]\n",
    "        # Create the path to image.\n",
    "        path_to_image = os.path.join(self.path_to_data, \"images\", image_name)\n",
    "        # Read image to a torch tensor. Since we are creating a new tensor here, we should move it to our preferred device.\n",
    "        image = read_image(path_to_image).to(device)\n",
    "        # Apply transformations.\n",
    "        transformed_image = self.augmentation(self.preprocessing(image))\n",
    "        # Pokemon name is the file name but without the extension .png, .jpg etc.\n",
    "        pokemon_name = image_name.split(\".\")[0]\n",
    "        # Find the pokemon from the csv and get its label code.\n",
    "        label = self.metadata[self.metadata[\"Name\"] == pokemon_name][\"label_code\"].to_numpy()\n",
    "        # Return. Since we are creating a tensor here (torch.from_numpy), we should move it to our preferred device.\n",
    "        return transformed_image, torch.from_numpy(label).to(device).squeeze()\n",
    "    \n",
    "    def __len__(self) -> int:\n",
    "        \"\"\"Compulsory for iteration.\"\"\"\n",
    "        return len(self.images_list)\n",
    "    \n",
    "    # You can create other functions to simplify your code (__getitem__ function), such as get_label() or get_image() etc.\n",
    "    \n",
    "    def preprocessing(self, img: Tensor) -> Tensor:\n",
    "        # Optional\n",
    "        return img\n",
    "    \n",
    "    def augmentation(self, img: Tensor) -> Tensor:\n",
    "        # Optional\n",
    "        return img"
   ]
  },
  {
   "cell_type": "markdown",
   "metadata": {},
   "source": [
    "Reference: https://pytorch.org/tutorials/beginner/basics/data_tutorial.html"
   ]
  },
  {
   "cell_type": "markdown",
   "metadata": {},
   "source": [
    "# 5. Torch Dataloaders"
   ]
  },
  {
   "cell_type": "code",
   "execution_count": 7,
   "metadata": {},
   "outputs": [],
   "source": [
    "from torch.utils.data import DataLoader"
   ]
  },
  {
   "cell_type": "markdown",
   "metadata": {},
   "source": [
    "Dataloader is a class that helps to iterate over your dataset, handles batching, data parallelization and various other functionalities. It has a default way to create batches, but needs an input Dataset class to iterate over."
   ]
  },
  {
   "cell_type": "markdown",
   "metadata": {},
   "source": [
    "Collating is a term that its functionality collects multiple samples (and its labels) to a batch and defines the batch-level Dataloader behaviour. Basically you can create a function that accepts batch_data (list of whatever is returned from __getitem function of your Dataset class). In this example, it is list of tuple of 2 tensors, these Tensors are the ones returned as (images, labels) from the __getitem function above. And the list of these actually multiple samples that you should create the batch from. Length of this list should be equal to your BATCH_SIZE. Collate function is usually provide more flexibility, especially when we need batches with different size each."
   ]
  },
  {
   "cell_type": "code",
   "execution_count": 8,
   "metadata": {},
   "outputs": [],
   "source": [
    "from torch.utils.data import default_collate\n",
    "from typing import List, Tuple # for type-annotations\n",
    "\n",
    "def my_batch_collate(batch_data: List[Tuple[Tensor, Tensor]]) -> Tensor:\n",
    "    return batch_data"
   ]
  },
  {
   "cell_type": "code",
   "execution_count": 9,
   "metadata": {},
   "outputs": [],
   "source": [
    "BATCH_SIZE = 5\n",
    "PATH_TO_DATA = \"../sample_data/\"\n",
    "\n",
    "tr_dataset = PokemonDataset(PATH_TO_DATA)\n",
    "tr_dataloader = DataLoader(\n",
    "    tr_dataset,\n",
    "    batch_size=BATCH_SIZE,\n",
    "    collate_fn=default_collate,\n",
    ")"
   ]
  },
  {
   "cell_type": "markdown",
   "metadata": {},
   "source": [
    "Reference: https://pytorch.org/tutorials/beginner/basics/data_tutorial.html"
   ]
  },
  {
   "cell_type": "markdown",
   "metadata": {},
   "source": [
    "This configuration should create a tensor of images in the following shape: [5, 4, 120, 120] which represents [batch_size, n_channels, img_height, img_width]. Note that RGB images have 3-channels, RGBA 4-channels and grayscale only one channel. Real data is usually very messy, thats why you will probably get errors most of the time."
   ]
  },
  {
   "cell_type": "markdown",
   "metadata": {},
   "source": [
    "Lets try out how the data is iterated !"
   ]
  },
  {
   "cell_type": "code",
   "execution_count": 10,
   "metadata": {},
   "outputs": [
    {
     "name": "stdout",
     "output_type": "stream",
     "text": [
      "torch.Size([5, 4, 120, 120])\n",
      "torch.Size([5])\n"
     ]
    },
    {
     "data": {
      "image/png": "[encoded data removed]",
      "text/plain": [
       "<Figure size 640x480 with 1 Axes>"
      ]
     },
     "metadata": {},
     "output_type": "display_data"
    },
    {
     "ename": "RuntimeError",
     "evalue": "stack expects each tensor to be equal size, but got [4, 120, 120] at entry 0 and [3, 120, 120] at entry 2",
     "output_type": "error",
     "traceback": [
      "\u001b[0;31m---------------------------------------------------------------------------\u001b[0m",
      "\u001b[0;31mRuntimeError\u001b[0m                              Traceback (most recent call last)",
      "\u001b[1;32m/home/oytun/GitRepos/basira-deep-learning-tutorials/introduction/tensor_dataset.ipynb Cell 42\u001b[0m line \u001b[0;36m3\n\u001b[1;32m      <a href='vscode-notebook-cell://wsl%2Bubuntu-22.04/home/oytun/GitRepos/basira-deep-learning-tutorials/introduction/tensor_dataset.ipynb#X24sdnNjb2RlLXJlbW90ZQ%3D%3D?line=0'>1</a>\u001b[0m \u001b[39mimport\u001b[39;00m \u001b[39mmatplotlib\u001b[39;00m\u001b[39m.\u001b[39;00m\u001b[39mpyplot\u001b[39;00m \u001b[39mas\u001b[39;00m \u001b[39mplt\u001b[39;00m\n\u001b[0;32m----> <a href='vscode-notebook-cell://wsl%2Bubuntu-22.04/home/oytun/GitRepos/basira-deep-learning-tutorials/introduction/tensor_dataset.ipynb#X24sdnNjb2RlLXJlbW90ZQ%3D%3D?line=2'>3</a>\u001b[0m \u001b[39mfor\u001b[39;00m image, label \u001b[39min\u001b[39;00m tr_dataloader:\n\u001b[1;32m      <a href='vscode-notebook-cell://wsl%2Bubuntu-22.04/home/oytun/GitRepos/basira-deep-learning-tutorials/introduction/tensor_dataset.ipynb#X24sdnNjb2RlLXJlbW90ZQ%3D%3D?line=3'>4</a>\u001b[0m     \u001b[39mprint\u001b[39m(image\u001b[39m.\u001b[39mshape)\n\u001b[1;32m      <a href='vscode-notebook-cell://wsl%2Bubuntu-22.04/home/oytun/GitRepos/basira-deep-learning-tutorials/introduction/tensor_dataset.ipynb#X24sdnNjb2RlLXJlbW90ZQ%3D%3D?line=4'>5</a>\u001b[0m     \u001b[39mprint\u001b[39m(label\u001b[39m.\u001b[39mshape)\n",
      "File \u001b[0;32m~/GitRepos/basira-deep-learning-tutorials/.venv/lib/python3.10/site-packages/torch/utils/data/dataloader.py:630\u001b[0m, in \u001b[0;36m_BaseDataLoaderIter.__next__\u001b[0;34m(self)\u001b[0m\n\u001b[1;32m    627\u001b[0m \u001b[39mif\u001b[39;00m \u001b[39mself\u001b[39m\u001b[39m.\u001b[39m_sampler_iter \u001b[39mis\u001b[39;00m \u001b[39mNone\u001b[39;00m:\n\u001b[1;32m    628\u001b[0m     \u001b[39m# TODO(https://github.com/pytorch/pytorch/issues/76750)\u001b[39;00m\n\u001b[1;32m    629\u001b[0m     \u001b[39mself\u001b[39m\u001b[39m.\u001b[39m_reset()  \u001b[39m# type: ignore[call-arg]\u001b[39;00m\n\u001b[0;32m--> 630\u001b[0m data \u001b[39m=\u001b[39m \u001b[39mself\u001b[39;49m\u001b[39m.\u001b[39;49m_next_data()\n\u001b[1;32m    631\u001b[0m \u001b[39mself\u001b[39m\u001b[39m.\u001b[39m_num_yielded \u001b[39m+\u001b[39m\u001b[39m=\u001b[39m \u001b[39m1\u001b[39m\n\u001b[1;32m    632\u001b[0m \u001b[39mif\u001b[39;00m \u001b[39mself\u001b[39m\u001b[39m.\u001b[39m_dataset_kind \u001b[39m==\u001b[39m _DatasetKind\u001b[39m.\u001b[39mIterable \u001b[39mand\u001b[39;00m \\\n\u001b[1;32m    633\u001b[0m         \u001b[39mself\u001b[39m\u001b[39m.\u001b[39m_IterableDataset_len_called \u001b[39mis\u001b[39;00m \u001b[39mnot\u001b[39;00m \u001b[39mNone\u001b[39;00m \u001b[39mand\u001b[39;00m \\\n\u001b[1;32m    634\u001b[0m         \u001b[39mself\u001b[39m\u001b[39m.\u001b[39m_num_yielded \u001b[39m>\u001b[39m \u001b[39mself\u001b[39m\u001b[39m.\u001b[39m_IterableDataset_len_called:\n",
      "File \u001b[0;32m~/GitRepos/basira-deep-learning-tutorials/.venv/lib/python3.10/site-packages/torch/utils/data/dataloader.py:674\u001b[0m, in \u001b[0;36m_SingleProcessDataLoaderIter._next_data\u001b[0;34m(self)\u001b[0m\n\u001b[1;32m    672\u001b[0m \u001b[39mdef\u001b[39;00m \u001b[39m_next_data\u001b[39m(\u001b[39mself\u001b[39m):\n\u001b[1;32m    673\u001b[0m     index \u001b[39m=\u001b[39m \u001b[39mself\u001b[39m\u001b[39m.\u001b[39m_next_index()  \u001b[39m# may raise StopIteration\u001b[39;00m\n\u001b[0;32m--> 674\u001b[0m     data \u001b[39m=\u001b[39m \u001b[39mself\u001b[39;49m\u001b[39m.\u001b[39;49m_dataset_fetcher\u001b[39m.\u001b[39;49mfetch(index)  \u001b[39m# may raise StopIteration\u001b[39;00m\n\u001b[1;32m    675\u001b[0m     \u001b[39mif\u001b[39;00m \u001b[39mself\u001b[39m\u001b[39m.\u001b[39m_pin_memory:\n\u001b[1;32m    676\u001b[0m         data \u001b[39m=\u001b[39m _utils\u001b[39m.\u001b[39mpin_memory\u001b[39m.\u001b[39mpin_memory(data, \u001b[39mself\u001b[39m\u001b[39m.\u001b[39m_pin_memory_device)\n",
      "File \u001b[0;32m~/GitRepos/basira-deep-learning-tutorials/.venv/lib/python3.10/site-packages/torch/utils/data/_utils/fetch.py:54\u001b[0m, in \u001b[0;36m_MapDatasetFetcher.fetch\u001b[0;34m(self, possibly_batched_index)\u001b[0m\n\u001b[1;32m     52\u001b[0m \u001b[39melse\u001b[39;00m:\n\u001b[1;32m     53\u001b[0m     data \u001b[39m=\u001b[39m \u001b[39mself\u001b[39m\u001b[39m.\u001b[39mdataset[possibly_batched_index]\n\u001b[0;32m---> 54\u001b[0m \u001b[39mreturn\u001b[39;00m \u001b[39mself\u001b[39;49m\u001b[39m.\u001b[39;49mcollate_fn(data)\n",
      "File \u001b[0;32m~/GitRepos/basira-deep-learning-tutorials/.venv/lib/python3.10/site-packages/torch/utils/data/_utils/collate.py:265\u001b[0m, in \u001b[0;36mdefault_collate\u001b[0;34m(batch)\u001b[0m\n\u001b[1;32m    204\u001b[0m \u001b[39mdef\u001b[39;00m \u001b[39mdefault_collate\u001b[39m(batch):\n\u001b[1;32m    205\u001b[0m \u001b[39m    \u001b[39m\u001b[39mr\u001b[39m\u001b[39m\"\"\"\u001b[39;00m\n\u001b[1;32m    206\u001b[0m \u001b[39m        Function that takes in a batch of data and puts the elements within the batch\u001b[39;00m\n\u001b[1;32m    207\u001b[0m \u001b[39m        into a tensor with an additional outer dimension - batch size. The exact output type can be\u001b[39;00m\n\u001b[0;32m   (...)\u001b[0m\n\u001b[1;32m    263\u001b[0m \u001b[39m            >>> default_collate(batch)  # Handle `CustomType` automatically\u001b[39;00m\n\u001b[1;32m    264\u001b[0m \u001b[39m    \"\"\"\u001b[39;00m\n\u001b[0;32m--> 265\u001b[0m     \u001b[39mreturn\u001b[39;00m collate(batch, collate_fn_map\u001b[39m=\u001b[39;49mdefault_collate_fn_map)\n",
      "File \u001b[0;32m~/GitRepos/basira-deep-learning-tutorials/.venv/lib/python3.10/site-packages/torch/utils/data/_utils/collate.py:142\u001b[0m, in \u001b[0;36mcollate\u001b[0;34m(batch, collate_fn_map)\u001b[0m\n\u001b[1;32m    139\u001b[0m transposed \u001b[39m=\u001b[39m \u001b[39mlist\u001b[39m(\u001b[39mzip\u001b[39m(\u001b[39m*\u001b[39mbatch))  \u001b[39m# It may be accessed twice, so we use a list.\u001b[39;00m\n\u001b[1;32m    141\u001b[0m \u001b[39mif\u001b[39;00m \u001b[39misinstance\u001b[39m(elem, \u001b[39mtuple\u001b[39m):\n\u001b[0;32m--> 142\u001b[0m     \u001b[39mreturn\u001b[39;00m [collate(samples, collate_fn_map\u001b[39m=\u001b[39mcollate_fn_map) \u001b[39mfor\u001b[39;00m samples \u001b[39min\u001b[39;00m transposed]  \u001b[39m# Backwards compatibility.\u001b[39;00m\n\u001b[1;32m    143\u001b[0m \u001b[39melse\u001b[39;00m:\n\u001b[1;32m    144\u001b[0m     \u001b[39mtry\u001b[39;00m:\n",
      "File \u001b[0;32m~/GitRepos/basira-deep-learning-tutorials/.venv/lib/python3.10/site-packages/torch/utils/data/_utils/collate.py:142\u001b[0m, in \u001b[0;36m<listcomp>\u001b[0;34m(.0)\u001b[0m\n\u001b[1;32m    139\u001b[0m transposed \u001b[39m=\u001b[39m \u001b[39mlist\u001b[39m(\u001b[39mzip\u001b[39m(\u001b[39m*\u001b[39mbatch))  \u001b[39m# It may be accessed twice, so we use a list.\u001b[39;00m\n\u001b[1;32m    141\u001b[0m \u001b[39mif\u001b[39;00m \u001b[39misinstance\u001b[39m(elem, \u001b[39mtuple\u001b[39m):\n\u001b[0;32m--> 142\u001b[0m     \u001b[39mreturn\u001b[39;00m [collate(samples, collate_fn_map\u001b[39m=\u001b[39;49mcollate_fn_map) \u001b[39mfor\u001b[39;00m samples \u001b[39min\u001b[39;00m transposed]  \u001b[39m# Backwards compatibility.\u001b[39;00m\n\u001b[1;32m    143\u001b[0m \u001b[39melse\u001b[39;00m:\n\u001b[1;32m    144\u001b[0m     \u001b[39mtry\u001b[39;00m:\n",
      "File \u001b[0;32m~/GitRepos/basira-deep-learning-tutorials/.venv/lib/python3.10/site-packages/torch/utils/data/_utils/collate.py:119\u001b[0m, in \u001b[0;36mcollate\u001b[0;34m(batch, collate_fn_map)\u001b[0m\n\u001b[1;32m    117\u001b[0m \u001b[39mif\u001b[39;00m collate_fn_map \u001b[39mis\u001b[39;00m \u001b[39mnot\u001b[39;00m \u001b[39mNone\u001b[39;00m:\n\u001b[1;32m    118\u001b[0m     \u001b[39mif\u001b[39;00m elem_type \u001b[39min\u001b[39;00m collate_fn_map:\n\u001b[0;32m--> 119\u001b[0m         \u001b[39mreturn\u001b[39;00m collate_fn_map[elem_type](batch, collate_fn_map\u001b[39m=\u001b[39;49mcollate_fn_map)\n\u001b[1;32m    121\u001b[0m     \u001b[39mfor\u001b[39;00m collate_type \u001b[39min\u001b[39;00m collate_fn_map:\n\u001b[1;32m    122\u001b[0m         \u001b[39mif\u001b[39;00m \u001b[39misinstance\u001b[39m(elem, collate_type):\n",
      "File \u001b[0;32m~/GitRepos/basira-deep-learning-tutorials/.venv/lib/python3.10/site-packages/torch/utils/data/_utils/collate.py:162\u001b[0m, in \u001b[0;36mcollate_tensor_fn\u001b[0;34m(batch, collate_fn_map)\u001b[0m\n\u001b[1;32m    160\u001b[0m     storage \u001b[39m=\u001b[39m elem\u001b[39m.\u001b[39m_typed_storage()\u001b[39m.\u001b[39m_new_shared(numel, device\u001b[39m=\u001b[39melem\u001b[39m.\u001b[39mdevice)\n\u001b[1;32m    161\u001b[0m     out \u001b[39m=\u001b[39m elem\u001b[39m.\u001b[39mnew(storage)\u001b[39m.\u001b[39mresize_(\u001b[39mlen\u001b[39m(batch), \u001b[39m*\u001b[39m\u001b[39mlist\u001b[39m(elem\u001b[39m.\u001b[39msize()))\n\u001b[0;32m--> 162\u001b[0m \u001b[39mreturn\u001b[39;00m torch\u001b[39m.\u001b[39;49mstack(batch, \u001b[39m0\u001b[39;49m, out\u001b[39m=\u001b[39;49mout)\n",
      "\u001b[0;31mRuntimeError\u001b[0m: stack expects each tensor to be equal size, but got [4, 120, 120] at entry 0 and [3, 120, 120] at entry 2"
     ]
    }
   ],
   "source": [
    "import matplotlib.pyplot as plt\n",
    "\n",
    "for image, label in tr_dataloader:\n",
    "    print(image.shape)\n",
    "    print(label.shape)\n",
    "\n",
    "    # Plot first image in the batch as grayscale (first channel).\n",
    "    # Note that we need to detach the gradients and move back to CPU to convert tensors to numpy !\n",
    "    plt.imshow(image.detach().cpu().numpy()[0, 0], cmap=\"gray\")\n",
    "    plt.show()"
   ]
  },
  {
   "cell_type": "markdown",
   "metadata": {},
   "source": [
    "__Exercise__: As you have noticed, you cannot create a batch if there are images in the same batch with different color coding. You can handle this situation by padding for RGB and grayscale images to 4-channels, or you can also pick only one channel. This is a good example why we should use our own batch collation function for dataloading, or you can change this in Dataset class as well (suitable case for preprocessing function.)."
   ]
  },
  {
   "cell_type": "markdown",
   "metadata": {},
   "source": [
    "__HINT__: Its easier when you use the torch functions: torch.stack() and torch.tensor.expand(). Check documentation for details."
   ]
  },
  {
   "cell_type": "code",
   "execution_count": 11,
   "metadata": {},
   "outputs": [],
   "source": [
    "\n",
    "def img_channel_padding_collate(batch_data: List[Tuple[Tensor, Tensor]]) -> Tuple[Tensor, Tensor]:\n",
    "    # batch_data is a list of inputs returned from __getitem__ function of the Dataset class.\n",
    "    # Here you need to create one single tensor with size [batch_size, n_channels=4, img_height, img_width].\n",
    "\n",
    "    # Handle the situation here:\n",
    "    for img, label in batch_data:\n",
    "        print(img.shape, label)\n",
    "        \n",
    "    return # Return 2 tensors: batched_images, batched_labels"
   ]
  },
  {
   "cell_type": "code",
   "execution_count": 12,
   "metadata": {},
   "outputs": [],
   "source": [
    "# Define the dataloader and attach your collate function.\n",
    "tr_dataloader = DataLoader(\n",
    "    tr_dataset,\n",
    "    batch_size=BATCH_SIZE,\n",
    "    collate_fn=img_channel_padding_collate,\n",
    ")"
   ]
  },
  {
   "cell_type": "code",
   "execution_count": 13,
   "metadata": {},
   "outputs": [
    {
     "name": "stdout",
     "output_type": "stream",
     "text": [
      "torch.Size([4, 120, 120]) tensor(13, device='cuda:0', dtype=torch.int8)\n",
      "torch.Size([4, 120, 120]) tensor(16, device='cuda:0', dtype=torch.int8)\n",
      "torch.Size([4, 120, 120]) tensor(3, device='cuda:0', dtype=torch.int8)\n",
      "torch.Size([4, 120, 120]) tensor(0, device='cuda:0', dtype=torch.int8)\n",
      "torch.Size([4, 120, 120]) tensor(8, device='cuda:0', dtype=torch.int8)\n"
     ]
    },
    {
     "ename": "TypeError",
     "evalue": "cannot unpack non-iterable NoneType object",
     "output_type": "error",
     "traceback": [
      "\u001b[0;31m---------------------------------------------------------------------------\u001b[0m",
      "\u001b[0;31mTypeError\u001b[0m                                 Traceback (most recent call last)",
      "\u001b[1;32m/home/oytun/GitRepos/basira-deep-learning-tutorials/introduction/tensor_dataset.ipynb Cell 47\u001b[0m line \u001b[0;36m2\n\u001b[1;32m      <a href='vscode-notebook-cell://wsl%2Bubuntu-22.04/home/oytun/GitRepos/basira-deep-learning-tutorials/introduction/tensor_dataset.ipynb#Y106sdnNjb2RlLXJlbW90ZQ%3D%3D?line=0'>1</a>\u001b[0m \u001b[39m# Try to run the iteration again:\u001b[39;00m\n\u001b[0;32m----> <a href='vscode-notebook-cell://wsl%2Bubuntu-22.04/home/oytun/GitRepos/basira-deep-learning-tutorials/introduction/tensor_dataset.ipynb#Y106sdnNjb2RlLXJlbW90ZQ%3D%3D?line=1'>2</a>\u001b[0m \u001b[39mfor\u001b[39;00m image, label \u001b[39min\u001b[39;00m tr_dataloader:\n\u001b[1;32m      <a href='vscode-notebook-cell://wsl%2Bubuntu-22.04/home/oytun/GitRepos/basira-deep-learning-tutorials/introduction/tensor_dataset.ipynb#Y106sdnNjb2RlLXJlbW90ZQ%3D%3D?line=2'>3</a>\u001b[0m     \u001b[39mprint\u001b[39m(image\u001b[39m.\u001b[39mshape)\n\u001b[1;32m      <a href='vscode-notebook-cell://wsl%2Bubuntu-22.04/home/oytun/GitRepos/basira-deep-learning-tutorials/introduction/tensor_dataset.ipynb#Y106sdnNjb2RlLXJlbW90ZQ%3D%3D?line=3'>4</a>\u001b[0m     \u001b[39mprint\u001b[39m(label\u001b[39m.\u001b[39mshape)\n",
      "\u001b[0;31mTypeError\u001b[0m: cannot unpack non-iterable NoneType object"
     ]
    }
   ],
   "source": [
    "# Try to run the iteration again:\n",
    "for image, label in tr_dataloader:\n",
    "    print(image.shape)\n",
    "    print(label.shape)"
   ]
  }
 ],
 "metadata": {
  "kernelspec": {
   "display_name": ".venv",
   "language": "python",
   "name": "python3"
  },
  "language_info": {
   "codemirror_mode": {
    "name": "ipython",
    "version": 3
   },
   "file_extension": ".py",
   "mimetype": "text/x-python",
   "name": "python",
   "nbconvert_exporter": "python",
   "pygments_lexer": "ipython3",
   "version": "3.10.6"
  }
 },
 "nbformat": 4,
 "nbformat_minor": 2
}
